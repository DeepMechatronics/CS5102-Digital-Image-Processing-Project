{
 "cells": [
  {
   "cell_type": "markdown",
   "metadata": {},
   "source": [
    "# Quality Inspection of the Workpiece"
   ]
  },
  {
   "cell_type": "markdown",
   "metadata": {},
   "source": [
    "## CS5102 - DIP Project"
   ]
  },
  {
   "cell_type": "markdown",
   "metadata": {},
   "source": [
    "Group: 29 <br>\n",
    "Authors: <br>\n",
    " Deep Patel, ME21D0004 <br>\n",
    " Radhika Mittal, CED19I050 <br>\n",
    " Yash Kumar Sahu, CED19I039 "
   ]
  },
  {
   "cell_type": "markdown",
   "metadata": {},
   "source": [
    "## Problem statement"
   ]
  },
  {
   "cell_type": "markdown",
   "metadata": {},
   "source": [
    "## Libraries"
   ]
  },
  {
   "cell_type": "code",
   "execution_count": 1,
   "metadata": {},
   "outputs": [],
   "source": [
    "from matplotlib import pyplot as plt                                              \n",
    "import cv2\n",
    "import glob\n",
    "import os\n",
    "import numpy as np\n",
    "import ntpath\n",
    "import math\n",
    "import cmath"
   ]
  },
  {
   "cell_type": "markdown",
   "metadata": {},
   "source": [
    "### Reading Input Grayscale Image"
   ]
  },
  {
   "cell_type": "code",
   "execution_count": null,
   "metadata": {},
   "outputs": [],
   "source": [
    "#Reading input image\n",
    "##Query Image\n",
    "url = \"https://raw.githubusercontent.com/YashKSahu/CS5103-PatternRecognition/main/Assignment-1/queryimage.png?token=GHSAT0AAAAAABRGK26K6LMVTDVFKBU5ONXUYQV4RHQ\"\n",
    "url_response = urlopen(url)\n",
    "img_array = np.array(bytearray(url_response.read()), dtype=np.uint8)\n",
    "img_s = cv2.imdecode(img_array,1)\n",
    "queryImage=np.array(img_s)\n",
    "plt.title(\"Query Image\")\n",
    "plt.imshow(cv2.cvtColor(queryImage, cv2.COLOR_BGR2RGB))\n",
    "plt.show()\n",
    "print('Query Image Shape =', queryImage.shape)\n",
    "print('Original Image Shape -', image.shape)\n",
    "plt.title(\"Workpiece\",fontsize=15)\n",
    "plt.imshow(image,cmap='gray')\n",
    "plt.show()"
   ]
  },
  {
   "cell_type": "markdown",
   "metadata": {},
   "source": [
    "## References\n",
    "\n",
    "Gonzalez, Rafael C. and Woods, Richard E.. Digital image processing. Upper Saddle River, N.J.: Prentice Hall, 2008"
   ]
  }
 ],
 "metadata": {
  "interpreter": {
   "hash": "e00bb6fe11c1d4bfe7838e46a3607d3480bff4ef18288b15837182102c27fac5"
  },
  "kernelspec": {
   "display_name": "Python 3 (ipykernel)",
   "language": "python",
   "name": "python3"
  },
  "language_info": {
   "codemirror_mode": {
    "name": "ipython",
    "version": 3
   },
   "file_extension": ".py",
   "mimetype": "text/x-python",
   "name": "python",
   "nbconvert_exporter": "python",
   "pygments_lexer": "ipython3",
   "version": "3.8.10"
  }
 },
 "nbformat": 4,
 "nbformat_minor": 2
}
