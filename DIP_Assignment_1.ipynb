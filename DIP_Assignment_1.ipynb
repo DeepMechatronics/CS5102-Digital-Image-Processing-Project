{
 "cells": [
  {
   "cell_type": "markdown",
   "id": "693c1f2e",
   "metadata": {},
   "source": [
    "# Libraries\n"
   ]
  },
  {
   "cell_type": "code",
   "execution_count": 154,
   "id": "4b9ac223",
   "metadata": {
    "executionInfo": {
     "elapsed": 14,
     "status": "ok",
     "timestamp": 1631552326649,
     "user": {
      "displayName": "CED18I058 YOGA SRI VARSHAN V",
      "photoUrl": "https://lh3.googleusercontent.com/a-/AOh14Ggydn7Rb8XJR0VuLg5kShGvka0ROuhA4yt3C7d1=s64",
      "userId": "11446139272435601763"
     },
     "user_tz": -330
    },
    "id": "4b9ac223"
   },
   "outputs": [],
   "source": [
    "from matplotlib import pyplot as plt                                              \n",
    "import cv2\n",
    "import glob\n",
    "import os\n",
    "import numpy as np\n",
    "import ntpath\n",
    "import math\n"
   ]
  },
  {
   "cell_type": "markdown",
   "id": "1e3251a5",
   "metadata": {},
   "source": [
    "# Setup and Intialisation"
   ]
  },
  {
   "cell_type": "code",
   "execution_count": 186,
   "id": "bbe4d017",
   "metadata": {},
   "outputs": [
    {
     "name": "stdout",
     "output_type": "stream",
     "text": [
      "g:\\My Drive\\IIITDM\\Research_Scholar\\Course-Digital-Image-Processing\\CS5102-Digital-Image-Processing-Assignment-1/Input-Images\\20220110_124120.jpg\n"
     ]
    }
   ],
   "source": [
    "cwd = os.getcwd() # get current directory\n",
    "input_image_dir_list=glob.glob(cwd+\"/Input-Images/*.jpg\") #  image (.jpg) file path list in input folder\n",
    "print(input_image_dir_list[1])\n",
    "\n"
   ]
  },
  {
   "cell_type": "markdown",
   "id": "60ae410c",
   "metadata": {},
   "source": [
    "# Read images and store it in list"
   ]
  },
  {
   "cell_type": "code",
   "execution_count": 192,
   "id": "6a8cddf8",
   "metadata": {},
   "outputs": [
    {
     "name": "stdout",
     "output_type": "stream",
     "text": [
      "(4128, 3096, 3)\n",
      "(4128, 3096, 3)\n",
      "(4128, 3096, 3)\n",
      "(4128, 3096, 3)\n",
      "(4128, 3096, 3)\n",
      "(4128, 3096, 3)\n",
      "(4128, 3096, 3)\n",
      "(7, 4128, 3096, 3)\n"
     ]
    }
   ],
   "source": [
    "## Assuming input image shape is same.\n",
    "input_image_data_list=[]\n",
    "for f in sorted(input_image_dir_list):\n",
    "\n",
    "        img = cv2.imread(f)  \n",
    "        im2arr = np.asarray(img)\n",
    "        input_image_data_list.append(im2arr)\n",
    "        print(im2arr.shape)\n",
    "\n",
    "input_image_data_list=np.array(input_image_data_list)        \n",
    "print(input_image_data_list.shape)        "
   ]
  },
  {
   "cell_type": "markdown",
   "id": "a4172be1",
   "metadata": {},
   "source": []
  },
  {
   "cell_type": "code",
   "execution_count": 193,
   "id": "eef91a29",
   "metadata": {},
   "outputs": [],
   "source": [
    "reference_image=input_image_data_list[0]"
   ]
  },
  {
   "cell_type": "code",
   "execution_count": 194,
   "id": "949563cc",
   "metadata": {},
   "outputs": [
    {
     "name": "stdout",
     "output_type": "stream",
     "text": [
      "(6,)\n"
     ]
    }
   ],
   "source": [
    "color_image_rmse=[]\n",
    "for i in range(len(input_image_data_list)-1):\n",
    "    i=i+1\n",
    "    rmse=math.sqrt(np.mean(np.square(reference_image-input_image_data_list[i])))\n",
    "    color_image_rmse.append(rmse)  \n",
    "color_image_rmse=np.array(color_image_rmse)      \n",
    "print(color_image_rmse.shape)   "
   ]
  },
  {
   "cell_type": "code",
   "execution_count": 157,
   "id": "143cf1ab",
   "metadata": {},
   "outputs": [],
   "source": [
    "#error=input_image_data_list[0]-input_image_data_list[6]\n",
    "#error_square=np.square(error)\n",
    "#error_square_mean=np.mean(error_square)\n",
    "#error_square_mean_root=math.sqrt(error_square_mean)"
   ]
  },
  {
   "cell_type": "code",
   "execution_count": 158,
   "id": "50a9d71f",
   "metadata": {},
   "outputs": [],
   "source": [
    "#print(error_square_mean_root)"
   ]
  },
  {
   "cell_type": "markdown",
   "id": "42303fa0",
   "metadata": {
    "id": "42303fa0"
   },
   "source": [
    "# Plot \"Image number vs RMSE score\" (Color)"
   ]
  },
  {
   "cell_type": "code",
   "execution_count": 159,
   "id": "95949440",
   "metadata": {
    "colab": {
     "base_uri": "https://localhost:8080/",
     "height": 613
    },
    "executionInfo": {
     "elapsed": 504,
     "status": "ok",
     "timestamp": 1631552457396,
     "user": {
      "displayName": "CED18I058 YOGA SRI VARSHAN V",
      "photoUrl": "https://lh3.googleusercontent.com/a-/AOh14Ggydn7Rb8XJR0VuLg5kShGvka0ROuhA4yt3C7d1=s64",
      "userId": "11446139272435601763"
     },
     "user_tz": -330
    },
    "id": "95949440",
    "outputId": "b15db8dc-f4ec-4a1e-d34b-c4b6f41d6fea"
   },
   "outputs": [],
   "source": [
    "#  Plot the values in the graph with the indexed images in the X-axis and RMSE score in the Y-axis.\n",
    "#plt.title(\"Image number vs RMSE score\", fontsize=20)\n",
    "#plt.xlabel(\"Image number\")\n",
    "#plt.ylabel(\"RMSE score\")\n",
    "#plt.plot(rgb_image_rmse_score)\n",
    "#plt.show()"
   ]
  },
  {
   "cell_type": "markdown",
   "id": "e843eb60",
   "metadata": {},
   "source": [
    "# Convert the color images to grayscale images"
   ]
  },
  {
   "cell_type": "code",
   "execution_count": null,
   "id": "62cf511f",
   "metadata": {},
   "outputs": [],
   "source": []
  },
  {
   "cell_type": "markdown",
   "id": "0a139b49",
   "metadata": {},
   "source": [
    "# Plot \"Image number vs RMSE score\" (Grayscale)"
   ]
  },
  {
   "cell_type": "code",
   "execution_count": 160,
   "id": "sticky-voice",
   "metadata": {},
   "outputs": [],
   "source": [
    "#plt.title(\"Image number vs RMSE score (Grayscale)\", fontsize=20)\n",
    "#plt.xlabel(\"Image number\")\n",
    "#plt.ylabel(\"RMSE score\")\n",
    "#plt.plot(gray_image_rmse_score)\n",
    "#plt.show()"
   ]
  }
 ],
 "metadata": {
  "colab": {
   "name": "DL_Assignemnt-1.ipynb",
   "provenance": []
  },
  "kernelspec": {
   "display_name": "Python 3",
   "language": "python",
   "name": "python3"
  },
  "language_info": {
   "codemirror_mode": {
    "name": "ipython",
    "version": 3
   },
   "file_extension": ".py",
   "mimetype": "text/x-python",
   "name": "python",
   "nbconvert_exporter": "python",
   "pygments_lexer": "ipython3",
   "version": "3.9.7"
  }
 },
 "nbformat": 4,
 "nbformat_minor": 5
}
