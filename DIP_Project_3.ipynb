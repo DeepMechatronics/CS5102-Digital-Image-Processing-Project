{
 "cells": [
  {
   "cell_type": "markdown",
   "metadata": {},
   "source": [
    "## CS5102 - DIP Project | Quality Inspection of the Workpiece"
   ]
  },
  {
   "cell_type": "markdown",
   "metadata": {},
   "source": [
    "Group: 29 <br>\n",
    "Authors: <br>\n",
    " Deep Patel, ME21D0004 <br>\n",
    " Radhika Mittal, CED19I050 <br>\n",
    " Yash Kumar Sahu, CED19I039 "
   ]
  },
  {
   "cell_type": "code",
   "execution_count": 20,
   "metadata": {},
   "outputs": [],
   "source": [
    "import os\n",
    "import cv2\n",
    "from matplotlib import pyplot as plt   "
   ]
  },
  {
   "cell_type": "markdown",
   "metadata": {},
   "source": [
    "# Problem Domain"
   ]
  },
  {
   "cell_type": "markdown",
   "metadata": {},
   "source": [
    "<img src=\".\\Project\\problem.png\" >\n",
    "\n"
   ]
  },
  {
   "cell_type": "markdown",
   "metadata": {},
   "source": [
    "# Image acquisition"
   ]
  },
  {
   "cell_type": "markdown",
   "metadata": {},
   "source": [
    "<img src=\".\\Project\\workspace.png\" >\n",
    "\n",
    "**Workspace setup**\n",
    "\n",
    "Camera Model: IS7802\n",
    "\n",
    "100 sample images (Varied illumination, Posistion and orientation)\n",
    "\n",
    "Workpiece size: ~25mm DIA and 30mm DIA (approx) \n",
    "Workpiece type: Aluminum 7075 and 6061\n",
    "\n",
    "**Assumptions**\n",
    "\n",
    "Similar\n",
    "-  Reflective Property\n",
    "-  Illumination\n",
    "-  Height\n",
    "\n",
    "\n",
    "\n",
    "\n",
    "\n"
   ]
  },
  {
   "cell_type": "markdown",
   "metadata": {},
   "source": [
    "## References\n",
    "\n",
    "Gonzalez, Rafael C. and Woods, Richard E.. Digital image processing. Upper Saddle River, N.J.: Prentice Hall, 2008\n",
    "\n",
    "W. Sriratana, N. Narknam, R. Apichitanon and N. Tammarugwattana, \"Application of Webcam for Inspection of Rice Grain Quality by Using Image Processing Technique,\" 2020 20th International Conference on Control, Automation and Systems (ICCAS), 2020, pp. 1134-1139, doi: 10.23919/ICCAS50221.2020.9268316.\n",
    "\n",
    "https://learnopencv.com/contour-detection-using-opencv-python-c/\n",
    "\n",
    "https://docs.opencv.org/4.x/d7/d4d/tutorial_py_thresholding.html  \n",
    "\n",
    "https://docs.opencv.org/3.4/d4/d73/tutorial_py_contours_begin.html  \n",
    "\n",
    "https://docs.opencv.org/4.x/da/d22/tutorial_py_canny.html  \n"
   ]
  }
 ],
 "metadata": {
  "interpreter": {
   "hash": "31f2aee4e71d21fbe5cf8b01ff0e069b9275f58929596ceb00d14d90e3e16cd6"
  },
  "kernelspec": {
   "display_name": "Python 3.6.9 64-bit",
   "language": "python",
   "name": "python3"
  },
  "language_info": {
   "codemirror_mode": {
    "name": "ipython",
    "version": 3
   },
   "file_extension": ".py",
   "mimetype": "text/x-python",
   "name": "python",
   "nbconvert_exporter": "python",
   "pygments_lexer": "ipython3",
   "version": "3.9.7"
  },
  "orig_nbformat": 4
 },
 "nbformat": 4,
 "nbformat_minor": 2
}
