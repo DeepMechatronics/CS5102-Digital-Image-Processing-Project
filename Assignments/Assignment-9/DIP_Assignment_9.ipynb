{
 "cells": [
  {
   "cell_type": "code",
   "execution_count": 491,
   "metadata": {},
   "outputs": [],
   "source": [
    "# Group 29 | Assignment 9 | Image Reconstruction\n",
    "# Author: Yash Kumar Sahu | Roll No: CED19I039 \n",
    "#         Radhika Mittal  |          CED19I050\n",
    "#         Deep Patel      |          ME21D0004"
   ]
  },
  {
   "cell_type": "markdown",
   "metadata": {},
   "source": [
    "## Question\n",
    "\n",
    "Create a concentric square image, with inner square pixel intensity values as 125 and outer square as 0 everywhere. Find the projection along the row, column, diagonal with 45 degree and 135 degree. Reconstruct the image by applying back projection algorithm using the following ways\n",
    "1. the row projection only \n",
    "2. the row and column projections \n",
    "3. the row and column and diagonal 45 degree projections \n",
    "4. the row and column and diagonal 45 and 135 degree projections "
   ]
  },
  {
   "cell_type": "markdown",
   "metadata": {},
   "source": [
    "## Libraries"
   ]
  },
  {
   "cell_type": "code",
   "execution_count": 5,
   "metadata": {},
   "outputs": [],
   "source": [
    "from matplotlib import pyplot as plt                                              \n",
    "import cv2\n",
    "import glob\n",
    "import os\n",
    "import numpy as np\n",
    "import ntpath\n",
    "import math\n",
    "import cmath\n",
    "from scipy.fftpack import fftn, ifftn, fftshift"
   ]
  },
  {
   "cell_type": "markdown",
   "metadata": {},
   "source": [
    "# Create concentric square image"
   ]
  },
  {
   "cell_type": "code",
   "execution_count": 54,
   "metadata": {},
   "outputs": [],
   "source": [
    "size=4\n",
    "img_2d=[[125]*size]*size\n",
    "cc_sq_img=h=np.pad(img_2d,(size,size),'constant',constant_values=(0))\n",
    "\n"
   ]
  },
  {
   "cell_type": "code",
   "execution_count": 55,
   "metadata": {},
   "outputs": [
    {
     "data": {
      "text/plain": [
       "<matplotlib.image.AxesImage at 0x1a40b6cfd90>"
      ]
     },
     "execution_count": 55,
     "metadata": {},
     "output_type": "execute_result"
    },
    {
     "data": {
      "image/png": "[encoded data removed]",
      "text/plain": [
       "<Figure size 432x288 with 1 Axes>"
      ]
     },
     "metadata": {
      "needs_background": "light"
     },
     "output_type": "display_data"
    }
   ],
   "source": [
    "plt.imshow(cc_sq_img, cmap='gray', vmin = 0, vmax = 255)"
   ]
  },
  {
   "cell_type": "code",
   "execution_count": 57,
   "metadata": {},
   "outputs": [
    {
     "name": "stdout",
     "output_type": "stream",
     "text": [
      "Px:  [  0.   0.   0.   0. 500. 500. 500. 500.   0.   0.   0.   0.]\n",
      "Py:  [  0.   0.   0.   0. 500. 500. 500. 500.   0.   0.   0.   0.]\n"
     ]
    }
   ],
   "source": [
    "sum_x=0\n",
    "sum_y=0\n",
    "sum_d45=0\n",
    "Px=[]\n",
    "Py=[]\n",
    "for i in range(cc_sq_img.shape[0]):\n",
    "        for j in range(cc_sq_img.shape[1]):\n",
    "            sum_x+=cc_sq_img[i][j]\n",
    "            sum_y+=cc_sq_img[j][i]\n",
    "        Px=np.append(Px,sum_x)\n",
    "        Py=np.append(Py,sum_y)\n",
    "        sum_x=0\n",
    "        sum_y=0\n",
    "print(\"Px: \",Px)\n",
    "print(\"Py: \",Py)         "
   ]
  },
  {
   "cell_type": "markdown",
   "metadata": {},
   "source": [
    "## References\n",
    "\n",
    "Gonzalez, Rafael C. and Woods, Richard E.. Digital image processing. Upper Saddle River, N.J.: Prentice Hall, 2008"
   ]
  }
 ],
 "metadata": {
  "interpreter": {
   "hash": "e00bb6fe11c1d4bfe7838e46a3607d3480bff4ef18288b15837182102c27fac5"
  },
  "kernelspec": {
   "display_name": "Python 3.9.7 64-bit",
   "language": "python",
   "name": "python3"
  },
  "language_info": {
   "codemirror_mode": {
    "name": "ipython",
    "version": 3
   },
   "file_extension": ".py",
   "mimetype": "text/x-python",
   "name": "python",
   "nbconvert_exporter": "python",
   "pygments_lexer": "ipython3",
   "version": "3.9.7"
  },
  "orig_nbformat": 4
 },
 "nbformat": 4,
 "nbformat_minor": 2
}
