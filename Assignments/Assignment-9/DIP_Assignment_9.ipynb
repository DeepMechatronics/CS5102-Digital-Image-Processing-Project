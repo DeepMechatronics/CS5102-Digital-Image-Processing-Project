{
 "cells": [
  {
   "cell_type": "code",
   "execution_count": 332,
   "metadata": {},
   "outputs": [],
   "source": [
    "# Group 29 | Assignment 9 | Image Reconstruction\n",
    "# Author: Yash Kumar Sahu | Roll No: CED19I039 \n",
    "#         Radhika Mittal  |          CED19I050\n",
    "#         Deep Patel      |          ME21D0004"
   ]
  },
  {
   "cell_type": "markdown",
   "metadata": {},
   "source": [
    "## Question\n",
    "\n",
    "Create a concentric square image, with inner square pixel intensity values as 125 and outer square as 0 everywhere. Find the projection along the row, column, diagonal with 45 degree and 135 degree. Reconstruct the image by applying back projection algorithm using the following ways\n",
    "1. the row projection only \n",
    "2. the row and column projections \n",
    "3. the row and column and diagonal 45 degree projections \n",
    "4. the row and column and diagonal 45 and 135 degree projections "
   ]
  },
  {
   "cell_type": "markdown",
   "metadata": {},
   "source": [
    "## Libraries"
   ]
  },
  {
   "cell_type": "code",
   "execution_count": 333,
   "metadata": {},
   "outputs": [],
   "source": [
    "from matplotlib import pyplot as plt                                              \n",
    "import cv2\n",
    "import glob\n",
    "import os\n",
    "import numpy as np\n",
    "import ntpath\n",
    "import math\n",
    "import cmath\n",
    "from scipy.fftpack import fftn, ifftn, fftshift"
   ]
  },
  {
   "cell_type": "markdown",
   "metadata": {},
   "source": [
    "# Create concentric square image"
   ]
  },
  {
   "cell_type": "code",
   "execution_count": 334,
   "metadata": {},
   "outputs": [],
   "source": [
    "size=2\n",
    "img_2d=[[125]*size]*size\n",
    "cc_sq_img=h=np.pad(img_2d,(size,size),'constant',constant_values=(0))\n",
    "\n"
   ]
  },
  {
   "cell_type": "code",
   "execution_count": 335,
   "metadata": {},
   "outputs": [
    {
     "data": {
      "text/plain": [
       "<matplotlib.image.AxesImage at 0x2573c458be0>"
      ]
     },
     "execution_count": 335,
     "metadata": {},
     "output_type": "execute_result"
    },
    {
     "data": {
      "image/png": "[encoded data removed]",
      "text/plain": [
       "<Figure size 432x288 with 1 Axes>"
      ]
     },
     "metadata": {
      "needs_background": "light"
     },
     "output_type": "display_data"
    }
   ],
   "source": [
    "plt.imshow(cc_sq_img, cmap='gray', vmin = 0, vmax = 255)"
   ]
  },
  {
   "cell_type": "markdown",
   "metadata": {},
   "source": [
    "## Find the projection "
   ]
  },
  {
   "cell_type": "code",
   "execution_count": 336,
   "metadata": {},
   "outputs": [
    {
     "name": "stdout",
     "output_type": "stream",
     "text": [
      "Px:  [  0.   0. 250. 250.   0.   0.]\n",
      "Py:  [  0.   0. 250. 250.   0.   0.]\n",
      "Pd45_u:  [250. 125.   0.   0.   0.   0.]\n",
      "Pd45_d:  [  0.   0.   0.   0. 125.]\n",
      "Pd135_u:  [  0.   0.   0.   0. 125. 250.]\n",
      "Pd135_d:  [125.   0.   0.   0.   0.   0.]\n"
     ]
    }
   ],
   "source": [
    "sum_x=0\n",
    "sum_y=0\n",
    "\n",
    "sum_d45_u=0\n",
    "sum_d45_d=0\n",
    "\n",
    "sum_d135_u=0\n",
    "sum_d135_d=0\n",
    "\n",
    "Px=[]\n",
    "Py=[]\n",
    "\n",
    "Pd45_u=[]\n",
    "Pd45_d=[]\n",
    "\n",
    "Pd135_u=[]\n",
    "Pd135_d=[]\n",
    "\n",
    "for i in range(cc_sq_img.shape[0]):\n",
    "\n",
    "  for j in range(cc_sq_img.shape[1]):\n",
    "      jd=j+i\n",
    "      jjd=i-j\n",
    "\n",
    "      if(jd<cc_sq_img.shape[1]):   \n",
    "        sum_d45_u+=cc_sq_img[j][jd]\n",
    "        sum_d45_d+=cc_sq_img[jd][j]\n",
    "\n",
    "      if(j<=i):   \n",
    "        #print(\"(\",jjd,\",\",i-jjd,\")\",end=\" \")\n",
    "        sum_d135_u+=cc_sq_img[jjd][i-jjd]\n",
    "        \n",
    "      if(j>i):   \n",
    "        #print(\"(\",jjd+6,\",\",i-jjd,\")\",end=\" \")\n",
    "        sum_d135_d+=cc_sq_img[jjd+cc_sq_img.shape[1]][i-jjd]\n",
    "      sum_x+=cc_sq_img[i][j]\n",
    "      sum_y+=cc_sq_img[j][i]\n",
    "  #print()\n",
    "  Px=np.append(Px,sum_x)\n",
    "  Py=np.append(Py,sum_y)\n",
    "\n",
    "  Pd45_u=np.append(Pd45_u,sum_d45_u)\n",
    "  Pd45_d=np.append(Pd45_d,sum_d45_d)\n",
    "\n",
    "  Pd135_u=np.append(Pd135_u,sum_d135_u)\n",
    "  Pd135_d=np.append(Pd135_d,sum_d135_d)\n",
    "\n",
    "  sum_x=0\n",
    "  sum_y=0\n",
    "\n",
    "  sum_d45_u=0\n",
    "  sum_d45_d=0\n",
    "\n",
    "\n",
    "  sum_d135_u=0\n",
    "  sum_d135_d=0\n",
    "\n",
    "Pd45_d = np.delete(Pd45_d, 0)   \n",
    "Pd45_d=Pd45_d[::-1]     \n",
    "\n",
    "print(\"Px: \",Px)\n",
    "print(\"Py: \",Py)\n",
    "print(\"Pd45_u: \",Pd45_u)\n",
    "print(\"Pd45_d: \",Pd45_d)\n",
    "print(\"Pd135_u: \",Pd135_u)\n",
    "print(\"Pd135_d: \",Pd135_d)"
   ]
  },
  {
   "cell_type": "markdown",
   "metadata": {},
   "source": [
    "## Reconstruct the image"
   ]
  },
  {
   "cell_type": "markdown",
   "metadata": {},
   "source": [
    "### row"
   ]
  },
  {
   "cell_type": "code",
   "execution_count": 337,
   "metadata": {},
   "outputs": [
    {
     "name": "stdout",
     "output_type": "stream",
     "text": [
      "[[  0   0   0   0   0   0]\n",
      " [  0   0   0   0   0   0]\n",
      " [250 250 250 250 250 250]\n",
      " [250 250 250 250 250 250]\n",
      " [  0   0   0   0   0   0]\n",
      " [  0   0   0   0   0   0]]\n"
     ]
    }
   ],
   "source": [
    "rc_img_2d=cc_sq_img*0\n",
    "for i in range(rc_img_2d.shape[0]):\n",
    "        for j in range(rc_img_2d.shape[1]):\n",
    "                rc_img_2d[i][j]=Px[i]\n",
    "print(rc_img_2d)                "
   ]
  },
  {
   "cell_type": "markdown",
   "metadata": {},
   "source": [
    "### row + col"
   ]
  },
  {
   "cell_type": "code",
   "execution_count": 338,
   "metadata": {},
   "outputs": [
    {
     "name": "stdout",
     "output_type": "stream",
     "text": [
      "[[  0   0 250 250   0   0]\n",
      " [  0   0 250 250   0   0]\n",
      " [250 250 500 500 250 250]\n",
      " [250 250 500 500 250 250]\n",
      " [  0   0 250 250   0   0]\n",
      " [  0   0 250 250   0   0]]\n"
     ]
    }
   ],
   "source": [
    "rc_img_2d=cc_sq_img*0\n",
    "for i in range(rc_img_2d.shape[0]):\n",
    "        for j in range(rc_img_2d.shape[1]):\n",
    "                rc_img_2d[i][j]=Px[i]+Py[j]\n",
    "print(rc_img_2d)"
   ]
  },
  {
   "cell_type": "markdown",
   "metadata": {},
   "source": [
    "### row + col + dia45"
   ]
  },
  {
   "cell_type": "code",
   "execution_count": 339,
   "metadata": {},
   "outputs": [
    {
     "name": "stdout",
     "output_type": "stream",
     "text": [
      "[[250 125 250 250   0   0]\n",
      " [125 250 375 250   0   0]\n",
      " [250 375 750 625 250 250]\n",
      " [250 250 625 750 375 250]\n",
      " [  0   0 250 375 250 125]\n",
      " [  0   0 250 250 125 250]]\n"
     ]
    }
   ],
   "source": [
    "rcd_img_2d=cc_sq_img*0\n",
    "for i in range(rcd_img_2d.shape[0]):\n",
    "        for j in range(rcd_img_2d.shape[1]):\n",
    "                jd=j-i\n",
    "                jjd=i+j\n",
    "                rcd_img_2d[i][j]+=Px[i]+Py[j]\n",
    "                rcd_img_2d[i][j]+=Pd45_u[jd] if jd>=0 else 0  \n",
    "                rcd_img_2d[i][j]+=Pd45_d[jd] if not jd>=0 and jjd>=0 else 0 \n",
    "                #rcd_img_2d[i][j]=Pd135_u[jjd] if jjd<rc_img_2d.shape[1] else 0 \n",
    "                #rcd_img_2d[i][j]=Pd135_d[jjd-6] if jjd>=rc_img_2d.shape[1] else 0 \n",
    "\n",
    "print(rcd_img_2d)"
   ]
  },
  {
   "cell_type": "markdown",
   "metadata": {},
   "source": [
    "### row + col + dia45 + dia135"
   ]
  },
  {
   "cell_type": "code",
   "execution_count": 340,
   "metadata": {},
   "outputs": [
    {
     "name": "stdout",
     "output_type": "stream",
     "text": [
      "[[250 125 250 250 125 250]\n",
      " [125 250 375 375 250 125]\n",
      " [250 375 875 875 375 250]\n",
      " [250 375 875 875 375 250]\n",
      " [125 250 375 375 250 125]\n",
      " [250 125 250 250 125 250]]\n"
     ]
    }
   ],
   "source": [
    "rcd_img_2d=cc_sq_img*0\n",
    "for i in range(rcd_img_2d.shape[0]):\n",
    "        for j in range(rcd_img_2d.shape[1]):\n",
    "                jd=j-i\n",
    "                jjd=i+j\n",
    "                \n",
    "                rcd_img_2d[i][j]+=Px[i]+Py[j]\n",
    "                rcd_img_2d[i][j]+=Pd45_u[jd] if jd>=0 else 0  \n",
    "                rcd_img_2d[i][j]+=Pd45_d[jd] if not jd>=0 and jjd>=0 else 0 \n",
    "                rcd_img_2d[i][j]+=Pd135_u[jjd] if jjd<rc_img_2d.shape[1] else 0 \n",
    "                rcd_img_2d[i][j]+=Pd135_d[jjd-cc_sq_img.shape[1]] if jjd>=rc_img_2d.shape[1] else 0 \n",
    "\n",
    "print(rcd_img_2d)"
   ]
  },
  {
   "cell_type": "markdown",
   "metadata": {},
   "source": [
    "## Monotonicty"
   ]
  },
  {
   "cell_type": "code",
   "execution_count": 341,
   "metadata": {},
   "outputs": [
    {
     "data": {
      "text/plain": [
       "<matplotlib.image.AxesImage at 0x2573c4d5100>"
      ]
     },
     "execution_count": 341,
     "metadata": {},
     "output_type": "execute_result"
    },
    {
     "data": {
      "image/png": "[encoded data removed]",
      "text/plain": [
       "<Figure size 432x288 with 1 Axes>"
      ]
     },
     "metadata": {
      "needs_background": "light"
     },
     "output_type": "display_data"
    }
   ],
   "source": [
    "h=((rcd_img_2d-np.amin(rcd_img_2d))/np.amax(rcd_img_2d))*255\n",
    "plt.imshow(h, cmap='gray', vmin = 0, vmax = 255)"
   ]
  },
  {
   "cell_type": "markdown",
   "metadata": {},
   "source": [
    "## References\n",
    "\n",
    "Gonzalez, Rafael C. and Woods, Richard E.. Digital image processing. Upper Saddle River, N.J.: Prentice Hall, 2008"
   ]
  }
 ],
 "metadata": {
  "interpreter": {
   "hash": "e00bb6fe11c1d4bfe7838e46a3607d3480bff4ef18288b15837182102c27fac5"
  },
  "kernelspec": {
   "display_name": "Python 3.9.7 64-bit",
   "language": "python",
   "name": "python3"
  },
  "language_info": {
   "codemirror_mode": {
    "name": "ipython",
    "version": 3
   },
   "file_extension": ".py",
   "mimetype": "text/x-python",
   "name": "python",
   "nbconvert_exporter": "python",
   "pygments_lexer": "ipython3",
   "version": "3.9.7"
  },
  "orig_nbformat": 4
 },
 "nbformat": 4,
 "nbformat_minor": 2
}
