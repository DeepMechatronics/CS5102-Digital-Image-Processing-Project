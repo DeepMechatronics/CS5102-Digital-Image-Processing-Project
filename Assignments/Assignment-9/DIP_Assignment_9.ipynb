{
 "cells": [
  {
   "cell_type": "code",
   "execution_count": 491,
   "metadata": {},
   "outputs": [],
   "source": [
    "# Group 29 | Assignment 9 | Image Reconstruction\n",
    "# Author: Yash Kumar Sahu | Roll No: CED19I039 \n",
    "#         Radhika Mittal  |          CED19I050\n",
    "#         Deep Patel      |          ME21D0004"
   ]
  },
  {
   "cell_type": "markdown",
   "metadata": {},
   "source": [
    "## Question\n",
    "\n",
    "Create a concentric square image, with inner square pixel intensity values as 125 and outer square as 0 everywhere. Find the projection along the row, column, diagonal with 45 degree and 135 degree. Reconstruct the image by applying back projection algorithm using the following ways\n",
    "1. the row projection only \n",
    "2. the row and column projections \n",
    "3. the row and column and diagonal 45 degree projections \n",
    "4. the row and column and diagonal 45 and 135 degree projections "
   ]
  },
  {
   "cell_type": "markdown",
   "metadata": {},
   "source": [
    "## Libraries"
   ]
  },
  {
   "cell_type": "code",
   "execution_count": 492,
   "metadata": {},
   "outputs": [],
   "source": [
    "from matplotlib import pyplot as plt                                              \n",
    "import cv2\n",
    "import glob\n",
    "import os\n",
    "import numpy as np\n",
    "import ntpath\n",
    "import math\n",
    "import cmath\n",
    "from scipy.fftpack import fftn, ifftn, fftshift"
   ]
  },
  {
   "cell_type": "markdown",
   "metadata": {},
   "source": []
  },
  {
   "cell_type": "markdown",
   "metadata": {},
   "source": [
    "## References\n",
    "\n",
    "Gonzalez, Rafael C. and Woods, Richard E.. Digital image processing. Upper Saddle River, N.J.: Prentice Hall, 2008"
   ]
  }
 ],
 "metadata": {
  "interpreter": {
   "hash": "e00bb6fe11c1d4bfe7838e46a3607d3480bff4ef18288b15837182102c27fac5"
  },
  "kernelspec": {
   "display_name": "Python 3.9.7 64-bit",
   "language": "python",
   "name": "python3"
  },
  "language_info": {
   "codemirror_mode": {
    "name": "ipython",
    "version": 3
   },
   "file_extension": ".py",
   "mimetype": "text/x-python",
   "name": "python",
   "nbconvert_exporter": "python",
   "pygments_lexer": "ipython3",
   "version": "3.9.7"
  },
  "orig_nbformat": 4
 },
 "nbformat": 4,
 "nbformat_minor": 2
}
