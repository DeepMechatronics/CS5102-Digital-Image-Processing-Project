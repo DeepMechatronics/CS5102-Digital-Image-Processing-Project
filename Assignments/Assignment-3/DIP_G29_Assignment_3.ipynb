{
  "nbformat": 4,
  "nbformat_minor": 0,
  "metadata": {
    "colab": {
      "name": "DIP_G29_Assignment-3.ipynb",
      "provenance": [],
      "collapsed_sections": []
    },
    "kernelspec": {
      "name": "python3",
      "display_name": "Python 3"
    },
    "language_info": {
      "name": "python"
    }
  },
  "cells": [
    {
      "cell_type": "markdown",
      "source": [
        "# CS5102 - DIP Assignment 3"
      ],
      "metadata": {
        "id": "ii8LA15ogXbk"
      }
    },
    {
      "cell_type": "markdown",
      "source": [
        "Group: 29 <br>\n",
        "Authors: <br>\n",
        " Deep Patel, ME21D0004 <br>\n",
        " Radhika Mittal, CED19I050 <br>\n",
        " Yash Kumar Sahu, CED19I039 \n",
        " "
      ],
      "metadata": {
        "id": "VtNjuiP9gj5r"
      }
    },
    {
      "cell_type": "markdown",
      "source": [
        "## Part1 - Gaussian Noise"
      ],
      "metadata": {
        "id": "-5lX7Ubwg4yb"
      }
    },
    {
      "cell_type": "markdown",
      "source": [
        "### Theory"
      ],
      "metadata": {
        "id": "aBsnvgmcg9kB"
      }
    },
    {
      "cell_type": "markdown",
      "source": [
        "$$\\Large f(x) = \\frac{1}{\\sigma\\sqrt{2\\pi}}e^{-\\frac{1}{2}(\\frac{x-\\mu}{\\sigma})^2} $$ <br>\n",
        "$\\Large f(x) = Probability Density Function $ <br>\n",
        "$\\Large \\sigma = Standard Deviation $ <br>\n",
        "$\\Large \\mu = Mean $\n",
        "\n",
        "The standard Gaussian distribution has standard normal distribution, with zero mean and unit variance. (source: Wikipedia)"
      ],
      "metadata": {
        "id": "4tWDKq0KhGQE"
      }
    },
    {
      "cell_type": "markdown",
      "source": [
        "### Gaussian Distribution"
      ],
      "metadata": {
        "id": "ah6cz_pchUeM"
      }
    },
    {
      "cell_type": "code",
      "source": [
        "import matplotlib.pyplot as plt\n",
        "import numpy as np\n",
        "import scipy.stats as stats\n",
        "import math\n",
        "\n",
        "mu = 0\n",
        "variance = 1\n",
        "sigma = math.sqrt(variance)\n",
        "x = np.linspace(mu - 3*sigma, mu + 3*sigma, 100)\n",
        "plt.plot(x, stats.norm.pdf(x, mu, sigma))\n",
        "plt.yticks([])\n",
        "plt.title(\"Gaussian Distribution\",fontsize=15)\n",
        "plt.show()"
      ],
      "metadata": {
        "colab": {
          "base_uri": "https://localhost:8080/",
          "height": 283
        },
        "id": "Zc8ecz3AhWI2",
        "outputId": "184f60a8-e027-4fce-936f-2b93dd62db7b"
      },
      "execution_count": 1,
      "outputs": [
        {
          "output_type": "display_data",
          "data": {
            "image/png": "[encoded data removed]",
            "text/plain": [
              "<Figure size 432x288 with 1 Axes>"
            ]
          },
          "metadata": {
            "needs_background": "light"
          }
        }
      ]
    },
    {
      "cell_type": "markdown",
      "source": [
        "### Importing Libraries\n"
      ],
      "metadata": {
        "id": "MNAK5HVhheH_"
      }
    },
    {
      "cell_type": "code",
      "source": [
        "#importing necessary libraries\n",
        "import glob\n",
        "import math\n",
        "import cv2\n",
        "import numpy as np\n",
        "import matplotlib.pyplot as plt"
      ],
      "metadata": {
        "id": "baNSHtbdhfnz"
      },
      "execution_count": 2,
      "outputs": []
    },
    {
      "cell_type": "markdown",
      "source": [
        "### Reading Input Grayscale Image"
      ],
      "metadata": {
        "id": "fQSvGQTXlps6"
      }
    },
    {
      "cell_type": "code",
      "source": [
        "#Reading input image\n",
        "path=r'lena.png'\n",
        "image=cv2.imread(path,0)\n",
        "image=np.array(image)\n",
        "print('Original Image Shape -', image.shape)"
      ],
      "metadata": {
        "colab": {
          "base_uri": "https://localhost:8080/"
        },
        "id": "GCADusHplxDU",
        "outputId": "dc918937-4d3f-4ed6-fbd5-f4e7507185b6"
      },
      "execution_count": 7,
      "outputs": [
        {
          "output_type": "stream",
          "name": "stdout",
          "text": [
            "Original Image Shape - ()\n"
          ]
        }
      ]
    },
    {
      "cell_type": "markdown",
      "source": [
        "### Adding Gaussian Noise"
      ],
      "metadata": {
        "id": "wPhYgwspl0EO"
      }
    },
    {
      "cell_type": "code",
      "source": [
        "plt.rcParams[\"figure.figsize\"]=15,15\n",
        "n=19 #initial kernel size\n",
        "images=[]\n",
        "for i in range(1,11):\n",
        "    noised=cv2.GaussianBlur(image,(n,n),0)\n",
        "    plt.subplot(5,5,i)\n",
        "    plt.imshow(noised,cmap='gray')\n",
        "    images.append(noised)\n",
        "    n=n+2;\n",
        "plt.show()"
      ],
      "metadata": {
        "colab": {
          "base_uri": "https://localhost:8080/",
          "height": 246
        },
        "id": "SCgd4ufhl2NS",
        "outputId": "edcaa607-99e4-4dc5-abde-d910ace9b0a1"
      },
      "execution_count": 8,
      "outputs": [
        {
          "output_type": "error",
          "ename": "TypeError",
          "evalue": "ignored",
          "traceback": [
            "\u001b[0;31m---------------------------------------------------------------------------\u001b[0m",
            "\u001b[0;31mTypeError\u001b[0m                                 Traceback (most recent call last)",
            "\u001b[0;32m<ipython-input-8-7b6f8256794d>\u001b[0m in \u001b[0;36m<module>\u001b[0;34m()\u001b[0m\n\u001b[1;32m      3\u001b[0m \u001b[0mimages\u001b[0m\u001b[0;34m=\u001b[0m\u001b[0;34m[\u001b[0m\u001b[0;34m]\u001b[0m\u001b[0;34m\u001b[0m\u001b[0;34m\u001b[0m\u001b[0m\n\u001b[1;32m      4\u001b[0m \u001b[0;32mfor\u001b[0m \u001b[0mi\u001b[0m \u001b[0;32min\u001b[0m \u001b[0mrange\u001b[0m\u001b[0;34m(\u001b[0m\u001b[0;36m1\u001b[0m\u001b[0;34m,\u001b[0m\u001b[0;36m11\u001b[0m\u001b[0;34m)\u001b[0m\u001b[0;34m:\u001b[0m\u001b[0;34m\u001b[0m\u001b[0;34m\u001b[0m\u001b[0m\n\u001b[0;32m----> 5\u001b[0;31m     \u001b[0mnoised\u001b[0m\u001b[0;34m=\u001b[0m\u001b[0mcv2\u001b[0m\u001b[0;34m.\u001b[0m\u001b[0mGaussianBlur\u001b[0m\u001b[0;34m(\u001b[0m\u001b[0mimage\u001b[0m\u001b[0;34m,\u001b[0m\u001b[0;34m(\u001b[0m\u001b[0mn\u001b[0m\u001b[0;34m,\u001b[0m\u001b[0mn\u001b[0m\u001b[0;34m)\u001b[0m\u001b[0;34m,\u001b[0m\u001b[0;36m0\u001b[0m\u001b[0;34m)\u001b[0m\u001b[0;34m\u001b[0m\u001b[0;34m\u001b[0m\u001b[0m\n\u001b[0m\u001b[1;32m      6\u001b[0m     \u001b[0mplt\u001b[0m\u001b[0;34m.\u001b[0m\u001b[0msubplot\u001b[0m\u001b[0;34m(\u001b[0m\u001b[0;36m5\u001b[0m\u001b[0;34m,\u001b[0m\u001b[0;36m5\u001b[0m\u001b[0;34m,\u001b[0m\u001b[0mi\u001b[0m\u001b[0;34m)\u001b[0m\u001b[0;34m\u001b[0m\u001b[0;34m\u001b[0m\u001b[0m\n\u001b[1;32m      7\u001b[0m     \u001b[0mplt\u001b[0m\u001b[0;34m.\u001b[0m\u001b[0mimshow\u001b[0m\u001b[0;34m(\u001b[0m\u001b[0mnoised\u001b[0m\u001b[0;34m,\u001b[0m\u001b[0mcmap\u001b[0m\u001b[0;34m=\u001b[0m\u001b[0;34m'gray'\u001b[0m\u001b[0;34m)\u001b[0m\u001b[0;34m\u001b[0m\u001b[0;34m\u001b[0m\u001b[0m\n",
            "\u001b[0;31mTypeError\u001b[0m: Expected Ptr<cv::UMat> for argument '%s'"
          ]
        }
      ]
    },
    {
      "cell_type": "markdown",
      "source": [
        "### Calculating Average "
      ],
      "metadata": {
        "id": "M2xzTFxxl4uJ"
      }
    },
    {
      "cell_type": "markdown",
      "source": [
        "##### Method 1 - Built In Function "
      ],
      "metadata": {
        "id": "IpifvUxymHDb"
      }
    },
    {
      "cell_type": "code",
      "source": [
        "##Method1\n",
        "plt.rcParams[\"figure.figsize\"]=5,5\n",
        "avg_image=images[0]\n",
        "for i in range(1,len(images)):\n",
        "    alpha=1.0/(i+1)\n",
        "    beta=1.0-alpha\n",
        "    avg_image=cv2.addWeighted(images[i],alpha,avg_image,beta,0.0)\n",
        "plt.imshow(avg_image,cmap='gray')\n",
        "plt.title(\"Avg Image - Method1\", fontsize=15)\n",
        "plt.show()\n",
        "avg_image\n",
        "method1_image=avg_image"
      ],
      "metadata": {
        "id": "WgfmgARimOip"
      },
      "execution_count": null,
      "outputs": []
    },
    {
      "cell_type": "markdown",
      "source": [
        "##### Method 2 - User Defined Function "
      ],
      "metadata": {
        "id": "8pZbPZsVmUzp"
      }
    },
    {
      "cell_type": "code",
      "source": [
        "##Method2\n",
        "test=[]\n",
        "for i in range(0,10):\n",
        "    img=np.array(images[i])\n",
        "    img=img/10\n",
        "    #img=img.astype(int)\n",
        "    test.append(img)\n",
        "img=img*0\n",
        "#print(img, img.shape)\n",
        "for i in range(0,10):\n",
        "    img=img+test[i]\n",
        "img=img.astype(int)\n",
        "method2_image=img\n",
        "#img=np.rint(img)\n",
        "#img=img.astype(int)\n",
        "plt.imshow(img,cmap='gray')\n",
        "plt.title(\"Avg Image - Method2\", fontsize=15)\n",
        "plt.show()"
      ],
      "metadata": {
        "id": "n7k4OhPTmcZi"
      },
      "execution_count": null,
      "outputs": []
    },
    {
      "cell_type": "code",
      "source": [
        "#Calculating rmse score for each image w.r.t reference image\n",
        "rmse=math.sqrt(np.square(np.subtract(method1_image,method2_image)).mean())\n",
        "print(\"Root Mean Square Error of Method 1 and 2 = \",rmse)"
      ],
      "metadata": {
        "id": "QwwMc_K0mhKz"
      },
      "execution_count": null,
      "outputs": []
    },
    {
      "cell_type": "markdown",
      "source": [
        "### Observation"
      ],
      "metadata": {
        "id": "9T-clTkGnCVi"
      }
    },
    {
      "cell_type": "markdown",
      "source": [
        "When images are averaged out then the image obtained is just the collection of averaged out individual pixel values of each image."
      ],
      "metadata": {
        "id": "dnBbzXTNnJmg"
      }
    },
    {
      "cell_type": "code",
      "source": [
        "plt.rcParams[\"figure.figsize\"]=18,18\n",
        "for i in range(0,10):\n",
        "    plt.subplot(4,3,i+1)\n",
        "    plt.hist((images[i]).ravel(),256,[0,256])\n",
        "    plt.title(\"NoiseImage\"+str(i+1),fontsize=15)\n",
        "plt.subplot(4,3,i+2)\n",
        "plt.title(\"AvgImage - Method1\",fontsize=15)\n",
        "plt.hist(method1_image.ravel(),256,[0,256]);\n",
        "plt.subplot(4,3,i+3)\n",
        "plt.title(\"AvgImage - Method2\",fontsize=15)\n",
        "plt.hist(method2_image.ravel(),256,[0,256]);\n",
        "plt.show()"
      ],
      "metadata": {
        "id": "xCNJ0BDjnKvy"
      },
      "execution_count": null,
      "outputs": []
    },
    {
      "cell_type": "markdown",
      "source": [
        "## Part2 - Interpolation\n",
        "\n",
        "A method of constructing new data points within the range of a discrete set of known data points. (source: Wikipedia)"
      ],
      "metadata": {
        "id": "ZDg0qyr3nXql"
      }
    },
    {
      "cell_type": "markdown",
      "source": [
        "### Reading Input Grayscale Image"
      ],
      "metadata": {
        "id": "aO4SaOXancwL"
      }
    },
    {
      "cell_type": "code",
      "source": [
        "#Reading input image\n",
        "path=r'lena.png'\n",
        "image=cv2.imread(path)\n",
        "image=np.array(image)\n",
        "print('Original Image Shape -', image.shape)\n",
        "row,col,ch=image.shape"
      ],
      "metadata": {
        "id": "cU___-nNndZ7"
      },
      "execution_count": null,
      "outputs": []
    },
    {
      "cell_type": "markdown",
      "source": [
        "### Resizing: OpenCV Built-In Function"
      ],
      "metadata": {
        "id": "u3QyQeo9nmGS"
      }
    },
    {
      "cell_type": "code",
      "source": [
        "def resize(scale_factors,image,method):\n",
        "    row,col,ch=image.shape\n",
        "    scale_factors.sort()\n",
        "    n=len(scale_factors)\n",
        "    fig, ax = plt.subplots(1,n, sharex=True, sharey=True)\n",
        "    for i in scale_factors:\n",
        "        n=n-1\n",
        "        resized=cv2.resize(image,(int(i*row),int(i*col)),method)\n",
        "        #print(resized.shape)\n",
        "        ax[n].imshow(cv2.cvtColor(resized, cv2.COLOR_BGR2RGB))\n",
        "        #plt.title(resized.shape)\n",
        "    plt.show()"
      ],
      "metadata": {
        "id": "Dbe-EnI6nmqB"
      },
      "execution_count": null,
      "outputs": []
    },
    {
      "cell_type": "code",
      "source": [
        "plt.rcParams[\"figure.figsize\"]=16,16\n",
        "scale_factors=[0.5,1,2]\n",
        "print(\"Interpolation: Nearest Neighbour\")\n",
        "print('Scale: 2x, 1x, 0.5x')\n",
        "resize(scale_factors,image,cv2.INTER_NEAREST)\n",
        "print(\"Interpolation: Bilinear\")\n",
        "print('Scale: 2x, 1x, 0.5x')\n",
        "resize(scale_factors,image,cv2.INTER_LINEAR)"
      ],
      "metadata": {
        "id": "JNE5giPenydX"
      },
      "execution_count": null,
      "outputs": []
    },
    {
      "cell_type": "code",
      "source": [
        ""
      ],
      "metadata": {
        "id": "GpljnM4Zn3Ia"
      },
      "execution_count": null,
      "outputs": []
    },
    {
      "cell_type": "markdown",
      "source": [
        "### Resizing: User Defined Function Color, Nearest Neighbour"
      ],
      "metadata": {
        "id": "02JLT6Tyn90X"
      }
    },
    {
      "cell_type": "code",
      "source": [
        "plt.rcParams[\"figure.figsize\"]=15,15\n",
        "def interNearestCustom(image):\n",
        "    plt.rcParams[\"figure.figsize\"]=8,8\n",
        "    #print(gray_image[4])\n",
        "    #print(image.shape)\n",
        "    row1,col1,ch1=image.shape\n",
        "    scale_factor=2\n",
        "    n=row1\n",
        "    n=int(n*scale_factor)\n",
        "\n",
        "    #Initiallizing a zero, scaled matrix of original image\n",
        "    scaled_image=np.zeros((n,n,3),np.uint8)\n",
        "    row2,col2,ch2=scaled_image.shape\n",
        "\n",
        "    # Iterating over the original image\n",
        "    image_nums=[]\n",
        "    x=0\n",
        "    y=0\n",
        "    for x in range(0,row1):\n",
        "        for y in range(0,col1):\n",
        "            image_nums.append(image[x][y])\n",
        "\n",
        "    # scaling Nearest Neighbour Interpolation\n",
        "    x=0\n",
        "    i=0\n",
        "    j=0\n",
        "    while(i<row2):\n",
        "        j=0\n",
        "        while(j<col2):\n",
        "            #print(i,j)\n",
        "            scaled_image[i][j]=image_nums[x]\n",
        "            x=x+1\n",
        "            j=j+scale_factor\n",
        "        i=i+scale_factor\n",
        "    #print(scaled_image[4])\n",
        "    #print(scaled_image.shape)\n",
        "    for i in range(0,row2):\n",
        "        for j in range(0,col2):\n",
        "            temp=scaled_image[i][j]\n",
        "            comparison = temp == [0,0,0]\n",
        "            if(comparison.all()):\n",
        "                temp_i=i//scale_factor\n",
        "                temp_j=j//scale_factor\n",
        "                scaled_image[i][j]=image[temp_i][temp_j]\n",
        "    #print(scaled_image[4])\n",
        "    #print(scaled_image.shape)    \n",
        "    plt.subplot(121)\n",
        "    plt.imshow(cv2.cvtColor(image,cv2.COLOR_BGR2RGB))\n",
        "    plt.title(\"Original \"+str(image.shape), fontsize=15)\n",
        "    plt.subplot(122)\n",
        "    plt.imshow(cv2.cvtColor(scaled_image,cv2.COLOR_BGR2RGB))\n",
        "    plt.title(\"Scaled_image \"+str(scaled_image.shape), fontsize=15)\n",
        "    plt.show()"
      ],
      "metadata": {
        "id": "JBmPIwEhn-nV"
      },
      "execution_count": null,
      "outputs": []
    },
    {
      "cell_type": "code",
      "source": [
        "#User Defined nearest neighbour\n",
        "interNearestCustom(image)"
      ],
      "metadata": {
        "id": "UF4nfvU3oPQ9"
      },
      "execution_count": null,
      "outputs": []
    },
    {
      "cell_type": "markdown",
      "source": [
        "## References:\n",
        "https://opencv24-python-tutorials.readthedocs.io/en/latest/py_tutorials/py_imgproc/py_histograms/py_table_of_contents_histograms/py_table_of_contents_histograms.html \n",
        "\n",
        "https://leslietj.github.io/2020/06/28/How-to-Average-Images-Using-OpenCV/#\n",
        "\n",
        "https://stackoverflow.com/questions/22937589/how-to-add-noise-gaussian-salt-and-pepper-etc-to-image-in-python-with-opencv\n",
        "\n",
        "https://automaticaddison.com/how-to-blend-multiple-images-using-opencv/\n",
        "\n",
        "https://stackoverflow.com/questions/17291455/how-to-get-an-average-picture-from-100-pictures-using-pil\n",
        "\n",
        "https://docs.opencv.org/4.x/d0/d86/tutorial_py_image_arithmetics.html\n",
        "\n",
        "https://www.geeksforgeeks.org/how-to-round-elements-of-the-numpy-array-to-the-nearest-integer/\n",
        "\n",
        "https://stackoverflow.com/questions/28816046/displaying-different-images-with-actual-size-in-matplotlib-subplot\n",
        "\n",
        "https://appdividend.com/2020/09/23/how-to-scale-images-in-python-using-opencv/\n",
        "\n",
        "https://stackoverflow.com/questions/47633546/relationship-between-dpi-and-figure-size\n",
        "\n",
        "https://docs.opencv.org/4.x/da/d6e/tutorial_py_geometric_transformations.html\n",
        "\n",
        "https://www.pyimagesearch.com/2021/01/20/opencv-resize-image-cv2-resize/\n",
        "\n",
        "https://www.cambridgeincolour.com/tutorials/image-interpolation.htm"
      ],
      "metadata": {
        "id": "UA3NBR0Aoa5G"
      }
    },
    {
      "cell_type": "markdown",
      "source": [
        "__You have reached the END of this Jupyter Notebook__"
      ],
      "metadata": {
        "id": "xbcR2iHlokQq"
      }
    }
  ]
}