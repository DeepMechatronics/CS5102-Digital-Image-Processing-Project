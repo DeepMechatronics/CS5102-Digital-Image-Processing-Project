{
 "cells": [
  {
   "cell_type": "code",
   "execution_count": 1,
   "id": "d1a320d2",
   "metadata": {},
   "outputs": [],
   "source": [
    "# Group 29\n",
    "# Assignment 3 | Author: Yash Kumar Sahu | Roll No: CED19I039 \n",
    "# Assignment 3 | Author: Radhika Mittal | Roll No: CED19I050\n",
    "# Assignment 3 | Author: Deep Patel | Roll No: ME21D0004"
   ]
  },
  {
   "cell_type": "markdown",
   "id": "693c1f2e",
   "metadata": {},
   "source": [
    "## Libraries\n"
   ]
  },
  {
   "cell_type": "code",
   "execution_count": 7,
   "id": "4b9ac223",
   "metadata": {
    "executionInfo": {
     "elapsed": 14,
     "status": "ok",
     "timestamp": 1631552326649,
     "user": {
      "displayName": "CED18I058 YOGA SRI VARSHAN V",
      "photoUrl": "https://lh3.googleusercontent.com/a-/AOh14Ggydn7Rb8XJR0VuLg5kShGvka0ROuhA4yt3C7d1=s64",
      "userId": "11446139272435601763"
     },
     "user_tz": -330
    },
    "id": "4b9ac223"
   },
   "outputs": [],
   "source": [
    "from matplotlib import pyplot as plt                                              \n",
    "import cv2\n",
    "import glob\n",
    "import os\n",
    "import numpy as np\n",
    "import ntpath\n",
    "import math\n"
   ]
  },
  {
   "cell_type": "markdown",
   "id": "db13deeb",
   "metadata": {},
   "source": [
    "## Read Lena Image "
   ]
  },
  {
   "cell_type": "code",
   "execution_count": 8,
   "id": "6a8cddf8",
   "metadata": {},
   "outputs": [],
   "source": [
    "cwd = os.getcwd()                                            # get current directory\n",
    "img = cv2.imread(cwd+\"/Lena.png\") \n",
    "gray_img = cv2.cvtColor(img, cv2.COLOR_BGR2GRAY)             # read image for its location\n"
   ]
  },
  {
   "cell_type": "markdown",
   "id": "d7279a9c",
   "metadata": {},
   "source": [
    "Part 1 | Adding Gaussian noise | Image averaging (Deep)\n"
   ]
  },
  {
   "cell_type": "markdown",
   "id": "13151ead",
   "metadata": {},
   "source": [
    "Part 2 | Nearest Neighbor Interpolation "
   ]
  },
  {
   "cell_type": "markdown",
   "id": "7e8c9f9a",
   "metadata": {},
   "source": [
    "Part 3 | Bilinear Interpolation"
   ]
  }
 ],
 "metadata": {
  "colab": {
   "name": "DL_Assignemnt-1.ipynb",
   "provenance": []
  },
  "kernelspec": {
   "display_name": "Python 3",
   "language": "python",
   "name": "python3"
  },
  "language_info": {
   "codemirror_mode": {
    "name": "ipython",
    "version": 3
   },
   "file_extension": ".py",
   "mimetype": "text/x-python",
   "name": "python",
   "nbconvert_exporter": "python",
   "pygments_lexer": "ipython3",
   "version": "3.9.6"
  }
 },
 "nbformat": 4,
 "nbformat_minor": 5
}
